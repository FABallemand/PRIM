{
 "cells": [
  {
   "cell_type": "markdown",
   "metadata": {},
   "source": [
    "<!-- Copyright (c) 2021-2024, InterDigital Communications, Inc\n",
    "All rights reserved.\n",
    "\n",
    "Redistribution and use in source and binary forms, with or without \n",
    "modification, are permitted (subject to the limitations in the disclaimer \n",
    "below) provided that the following conditions are met:\n",
    "\n",
    "* Redistributions of source code must retain the above copyright notice, \n",
    "this list of conditions and the following disclaimer.\n",
    "* Redistributions in binary form must reproduce the above copyright notice, \n",
    "this list of conditions and the following disclaimer in the documentation \n",
    "and/or other materials provided with the distribution.\n",
    "* Neither the name of InterDigital Communications, Inc nor the names of its \n",
    "contributors may be used to endorse or promote products derived from this \n",
    "software without specific prior written permission.\n",
    "\n",
    "NO EXPRESS OR IMPLIED LICENSES TO ANY PARTY'S PATENT RIGHTS ARE GRANTED BY \n",
    "THIS LICENSE. THIS SOFTWARE IS PROVIDED BY THE COPYRIGHT HOLDERS AND \n",
    "CONTRIBUTORS \"AS IS\" AND ANY EXPRESS OR IMPLIED WARRANTIES, INCLUDING, BUT \n",
    "NOT LIMITED TO, THE IMPLIED WARRANTIES OF MERCHANTABILITY AND FITNESS FOR A \n",
    "PARTICULAR PURPOSE ARE DISCLAIMED. IN NO EVENT SHALL THE COPYRIGHT HOLDER \n",
    "OR CONTRIBUTORS BE LIABLE FOR ANY DIRECT, INDIRECT, INCIDENTAL, SPECIAL, \n",
    "EXEMPLARY, OR CONSEQUENTIAL DAMAGES (INCLUDING, BUT NOT LIMITED TO, \n",
    "PROCUREMENT OF SUBSTITUTE GOODS OR SERVICES; LOSS OF USE, DATA, OR PROFITS; \n",
    "OR BUSINESS INTERRUPTION) HOWEVER CAUSED AND ON ANY THEORY OF LIABILITY, \n",
    "WHETHER IN CONTRACT, STRICT LIABILITY, OR TORT (INCLUDING NEGLIGENCE OR \n",
    "OTHERWISE) ARISING IN ANY WAY OUT OF THE USE OF THIS SOFTWARE, EVEN IF \n",
    "ADVISED OF THE POSSIBILITY OF SUCH DAMAGE. -->"
   ]
  },
  {
   "cell_type": "markdown",
   "metadata": {},
   "source": [
    "# Knowledge Distillation Applied to Auto-Encoder"
   ]
  },
  {
   "cell_type": "code",
   "execution_count": 1,
   "metadata": {},
   "outputs": [],
   "source": [
    "import io\n",
    "import math\n",
    "import numpy as np\n",
    "\n",
    "from PIL import Image\n",
    "\n",
    "import torch\n",
    "import torch.nn as nn\n",
    "from torchvision import transforms\n",
    "from torch.utils.data import DataLoader\n",
    "from pytorch_msssim import ms_ssim\n",
    "\n",
    "from compressai.datasets import Vimeo90kDataset\n",
    "from compressai.models.google import ScaleHyperprior\n",
    "\n",
    "import matplotlib.pyplot as plt\n",
    "from ipywidgets import interact, widgets\n",
    "\n",
    "from losses import AverageMeter"
   ]
  },
  {
   "cell_type": "code",
   "execution_count": 2,
   "metadata": {},
   "outputs": [],
   "source": [
    "def compute_psnr(a, b):\n",
    "    mse = torch.mean((a - b)**2).item()\n",
    "    return -10 * math.log10(mse)\n",
    "\n",
    "\n",
    "def compute_msssim(a, b):\n",
    "    return ms_ssim(a, b, data_range=1.).item()\n",
    "\n",
    "\n",
    "def compute_bpp(out_net):\n",
    "    size = out_net[\"x_hat\"].size()\n",
    "    num_pixels = size[0] * size[2] * size[3]\n",
    "    return sum(torch.log(likelihoods).sum() / (-math.log(2) * num_pixels)\n",
    "               for likelihoods in out_net[\"likelihoods\"].values()).item()"
   ]
  },
  {
   "cell_type": "code",
   "execution_count": 3,
   "metadata": {},
   "outputs": [
    {
     "name": "stdout",
     "output_type": "stream",
     "text": [
      "cpu\n"
     ]
    }
   ],
   "source": [
    "device = \"cuda\" if torch.cuda.is_available() else \"cpu\"\n",
    "print(device)"
   ]
  },
  {
   "cell_type": "code",
   "execution_count": 4,
   "metadata": {},
   "outputs": [],
   "source": [
    "N_teacher = 128\n",
    "N_student = 64\n",
    "M = 192"
   ]
  },
  {
   "cell_type": "markdown",
   "metadata": {},
   "source": [
    "## Visualise Models"
   ]
  },
  {
   "cell_type": "code",
   "execution_count": 6,
   "metadata": {},
   "outputs": [],
   "source": [
    "%%script false --no-raise-error\n",
    "from torchsummary import summary\n",
    "\n",
    "# model = ScaleHyperprior(N_teacher, M)\n",
    "model = ScaleHyperprior(N_student, M)\n",
    "summary(model, input_size=(3, 256, 256))"
   ]
  },
  {
   "cell_type": "code",
   "execution_count": 9,
   "metadata": {},
   "outputs": [],
   "source": [
    "%%script false --no-raise-error\n",
    "import graphviz\n",
    "from torchview import draw_graph\n",
    "graphviz.set_jupyter_format(\"png\")\n",
    "\n",
    "# model = ScaleHyperprior(N_teacher, M)\n",
    "model = ScaleHyperprior(N_student, M)\n",
    "model_graph = draw_graph(model, input_size=(1, 3, 256, 256), mode=\"eval\", device=\"meta\")\n",
    "model_graph.visual_graph"
   ]
  },
  {
   "cell_type": "code",
   "execution_count": 13,
   "metadata": {},
   "outputs": [],
   "source": [
    "%%script false --no-raise-error\n",
    "import torch\n",
    "from torchviz import make_dot\n",
    "\n",
    "# model = ScaleHyperprior(N_teacher, M)\n",
    "model = ScaleHyperprior(N_student, M)\n",
    "x = torch.randn(1, 3, 256, 256)\n",
    "out = model(x)\n",
    "\n",
    "make_dot(out[\"x_hat\"].mean(), params=dict(model.named_parameters()))\n",
    "# make_dot(y.mean(), params=dict(model.named_parameters()), show_attrs=True, show_saved=True)"
   ]
  },
  {
   "cell_type": "markdown",
   "metadata": {},
   "source": [
    "## Load Models"
   ]
  },
  {
   "cell_type": "code",
   "execution_count": null,
   "metadata": {},
   "outputs": [],
   "source": [
    "# Teacher Model\n",
    "id = 254451\n",
    "teacher_net = ScaleHyperprior(N_teacher, M)\n",
    "checkpoint = torch.load(f\"train_res/{id}/checkpoint_best.pth.tar\",\n",
    "    weights_only=True, map_location=torch.device(\"cpu\"))\n",
    "teacher_net.load_state_dict(checkpoint[\"state_dict\"])\n",
    "teacher_net = teacher_net.eval().to(device)\n",
    "\n",
    "print(f\"Parameters: {sum(p.numel() for p in teacher_net.parameters())}\")"
   ]
  },
  {
   "cell_type": "code",
   "execution_count": null,
   "metadata": {},
   "outputs": [],
   "source": [
    "# Student Model\n",
    "id = 254452\n",
    "student_net = ScaleHyperprior(N_student, M)\n",
    "checkpoint = torch.load(f\"train_res/{id}/checkpoint_best.pth.tar\",\n",
    "    weights_only=True, map_location=torch.device(\"cpu\"))\n",
    "student_net.load_state_dict(checkpoint[\"state_dict\"])\n",
    "student_net = student_net.eval().to(device)\n",
    "\n",
    "print(f\"Parameters: {sum(p.numel() for p in student_net.parameters())}\")"
   ]
  },
  {
   "cell_type": "code",
   "execution_count": null,
   "metadata": {},
   "outputs": [],
   "source": [
    "# Student Model with KD (no latent loss)\n",
    "id = 257451\n",
    "student_kd_net_1 = ScaleHyperprior(N_student, M)\n",
    "checkpoint = torch.load(f\"train_res/{id}/checkpoint_best.pth.tar\",\n",
    "    weights_only=True, map_location=torch.device(\"cpu\"))\n",
    "student_kd_net_1.load_state_dict(checkpoint[\"state_dict\"])\n",
    "student_kd_net_1 = student_kd_net_1.eval().to(device)\n",
    "\n",
    "print(f\"Parameters: {sum(p.numel() for p in student_kd_net_1.parameters())}\")"
   ]
  },
  {
   "cell_type": "code",
   "execution_count": null,
   "metadata": {},
   "outputs": [],
   "source": [
    "# Student Model with KD (latent loss)\n",
    "id = 257452\n",
    "student_kd_net_2 = ScaleHyperprior(N_student, M)\n",
    "checkpoint = torch.load(f\"train_res/{id}/checkpoint_best.pth.tar\",\n",
    "    weights_only=True, map_location=torch.device(\"cpu\"))\n",
    "student_kd_net_2.load_state_dict(checkpoint[\"state_dict\"])\n",
    "student_kd_net_2 = student_kd_net_2.eval().to(device)\n",
    "\n",
    "print(f\"Parameters: {sum(p.numel() for p in student_kd_net_2.parameters())}\")"
   ]
  },
  {
   "cell_type": "code",
   "execution_count": 9,
   "metadata": {},
   "outputs": [],
   "source": [
    "models = {\n",
    "    \"teacher\": {\"model\": teacher_net, \"metrics\": {}},\n",
    "    \"student\": {\"model\": student_net, \"metrics\": {}},\n",
    "    \"student_kd_1\": {\"model\": student_kd_net_1, \"metrics\": {}},\n",
    "    \"student_kd_2\": {\"model\": student_kd_net_2, \"metrics\": {}},\n",
    "}"
   ]
  },
  {
   "cell_type": "markdown",
   "metadata": {},
   "source": [
    "## Models Comparison"
   ]
  },
  {
   "cell_type": "markdown",
   "metadata": {},
   "source": [
    "### Saint Malo"
   ]
  },
  {
   "cell_type": "code",
   "execution_count": null,
   "metadata": {},
   "outputs": [],
   "source": [
    "test_transforms = transforms.Compose(\n",
    "    [transforms.RandomCrop((256,256)), transforms.ToTensor()]\n",
    ")\n",
    "\n",
    "img = Image.open(\"../data/assets/stmalo_fracape.png\").convert(\"RGB\")\n",
    "x = test_transforms(img).unsqueeze(0).to(device)\n",
    "print(x.shape)"
   ]
  },
  {
   "cell_type": "code",
   "execution_count": 33,
   "metadata": {},
   "outputs": [],
   "source": [
    "# Inference\n",
    "criterion = nn.MSELoss()\n",
    "with torch.no_grad():\n",
    "    for model in models.keys():\n",
    "        output = models[model][\"model\"].forward(x)\n",
    "\n",
    "        models[model][\"metrics\"][\"mse\"] = criterion(output[\"x_hat\"], x).item()\n",
    "        models[model][\"metrics\"][\"psnr\"] = compute_psnr(x, output[\"x_hat\"])\n",
    "        models[model][\"metrics\"][\"ms_ssim\"] = compute_msssim(x, output[\"x_hat\"])\n",
    "        models[model][\"metrics\"][\"bpp\"] = compute_bpp(output)\n",
    "\n",
    "        models[model][\"output\"] = output"
   ]
  },
  {
   "cell_type": "code",
   "execution_count": null,
   "metadata": {},
   "outputs": [],
   "source": [
    "fig, axs = plt.subplots(4, 4, figsize=(16, 12))\n",
    "\n",
    "orig = transforms.ToPILImage()(x.squeeze().cpu())\n",
    "\n",
    "for ax in axs.ravel():\n",
    "    ax.axis(\"off\")\n",
    "\n",
    "for i, model in enumerate(models.keys()):\n",
    "    axs[i, 0].imshow(orig)\n",
    "    axs[i, 0].title.set_text(\"Original\")\n",
    "\n",
    "    recons = transforms.ToPILImage()(models[model][\"output\"][\"x_hat\"].squeeze().cpu())\n",
    "    axs[i, 1].imshow(recons)\n",
    "    axs[i, 1].title.set_text(\"Reconstructed\")\n",
    "\n",
    "    diffs = torch.mean((models[model][\"output\"][\"x_hat\"] - x).abs(), axis=1).squeeze().cpu()\n",
    "    axs[i, 2].imshow(diffs, cmap=\"viridis\")\n",
    "    axs[i, 2].title.set_text(f\"Difference\")\n",
    "\n",
    "    axs[i, 3].set_axis_off()\n",
    "    axs[i, 3].table(rowLabels=list(models[model][\"metrics\"].keys()),\n",
    "                    cellText=[[m] for m in models[model][\"metrics\"].values()],\n",
    "                    loc=\"center\")\n",
    "\n",
    "plt.show()"
   ]
  }
 ],
 "metadata": {
  "kernelspec": {
   "display_name": "base",
   "language": "python",
   "name": "python3"
  },
  "language_info": {
   "codemirror_mode": {
    "name": "ipython",
    "version": 3
   },
   "file_extension": ".py",
   "mimetype": "text/x-python",
   "name": "python",
   "nbconvert_exporter": "python",
   "pygments_lexer": "ipython3",
   "version": "3.9.12"
  }
 },
 "nbformat": 4,
 "nbformat_minor": 4
}
