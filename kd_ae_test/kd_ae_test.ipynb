{
 "cells": [
  {
   "cell_type": "markdown",
   "metadata": {},
   "source": [
    "<!-- Copyright (c) 2021-2024, InterDigital Communications, Inc\n",
    "All rights reserved.\n",
    "\n",
    "Redistribution and use in source and binary forms, with or without \n",
    "modification, are permitted (subject to the limitations in the disclaimer \n",
    "below) provided that the following conditions are met:\n",
    "\n",
    "* Redistributions of source code must retain the above copyright notice, \n",
    "this list of conditions and the following disclaimer.\n",
    "* Redistributions in binary form must reproduce the above copyright notice, \n",
    "this list of conditions and the following disclaimer in the documentation \n",
    "and/or other materials provided with the distribution.\n",
    "* Neither the name of InterDigital Communications, Inc nor the names of its \n",
    "contributors may be used to endorse or promote products derived from this \n",
    "software without specific prior written permission.\n",
    "\n",
    "NO EXPRESS OR IMPLIED LICENSES TO ANY PARTY'S PATENT RIGHTS ARE GRANTED BY \n",
    "THIS LICENSE. THIS SOFTWARE IS PROVIDED BY THE COPYRIGHT HOLDERS AND \n",
    "CONTRIBUTORS \"AS IS\" AND ANY EXPRESS OR IMPLIED WARRANTIES, INCLUDING, BUT \n",
    "NOT LIMITED TO, THE IMPLIED WARRANTIES OF MERCHANTABILITY AND FITNESS FOR A \n",
    "PARTICULAR PURPOSE ARE DISCLAIMED. IN NO EVENT SHALL THE COPYRIGHT HOLDER \n",
    "OR CONTRIBUTORS BE LIABLE FOR ANY DIRECT, INDIRECT, INCIDENTAL, SPECIAL, \n",
    "EXEMPLARY, OR CONSEQUENTIAL DAMAGES (INCLUDING, BUT NOT LIMITED TO, \n",
    "PROCUREMENT OF SUBSTITUTE GOODS OR SERVICES; LOSS OF USE, DATA, OR PROFITS; \n",
    "OR BUSINESS INTERRUPTION) HOWEVER CAUSED AND ON ANY THEORY OF LIABILITY, \n",
    "WHETHER IN CONTRACT, STRICT LIABILITY, OR TORT (INCLUDING NEGLIGENCE OR \n",
    "OTHERWISE) ARISING IN ANY WAY OUT OF THE USE OF THIS SOFTWARE, EVEN IF \n",
    "ADVISED OF THE POSSIBILITY OF SUCH DAMAGE. -->"
   ]
  },
  {
   "cell_type": "markdown",
   "metadata": {},
   "source": [
    "# Knowledge Distillation Applied to Auto-Encoder"
   ]
  },
  {
   "cell_type": "code",
   "execution_count": null,
   "metadata": {},
   "outputs": [],
   "source": [
    "import io\n",
    "import math\n",
    "import numpy as np\n",
    "\n",
    "from PIL import Image\n",
    "\n",
    "import torch\n",
    "import torch.nn as nn\n",
    "from torchvision import transforms\n",
    "from torch.utils.data import DataLoader\n",
    "\n",
    "from compressai.datasets import Vimeo90kDataset\n",
    "\n",
    "import matplotlib.pyplot as plt\n",
    "from ipywidgets import interact, widgets\n",
    "\n",
    "from models import TeacherAE, StudentAE"
   ]
  },
  {
   "cell_type": "code",
   "execution_count": null,
   "metadata": {},
   "outputs": [],
   "source": [
    "device = \"cuda\" if torch.cuda.is_available() else \"cpu\"\n",
    "print(device)"
   ]
  },
  {
   "cell_type": "markdown",
   "metadata": {},
   "source": [
    "## Visualise Models"
   ]
  },
  {
   "cell_type": "code",
   "execution_count": null,
   "metadata": {},
   "outputs": [],
   "source": [
    "# %%script false --no-raise-error\n",
    "from torchsummary import summary\n",
    "\n",
    "# model = TeacherAE()\n",
    "model = StudentAE()\n",
    "summary(model, input_size=(3, 256, 256))"
   ]
  },
  {
   "cell_type": "code",
   "execution_count": null,
   "metadata": {},
   "outputs": [],
   "source": [
    "%%script false --no-raise-error\n",
    "import graphviz\n",
    "from torchview import draw_graph\n",
    "graphviz.set_jupyter_format(\"png\")\n",
    "from models import TeacherAE, StudentAE\n",
    "\n",
    "# model = TeacherAE()\n",
    "model = StudentAE()\n",
    "model_graph = draw_graph(model, input_size=(1, 3, 256, 256), mode=\"eval\", device=\"meta\")\n",
    "model_graph.visual_graph"
   ]
  },
  {
   "cell_type": "code",
   "execution_count": null,
   "metadata": {},
   "outputs": [],
   "source": [
    "%%script false --no-raise-error\n",
    "import torch\n",
    "from torchviz import make_dot\n",
    "from models import TeacherAE, StudentAE\n",
    "\n",
    "# model = TeacherAE()\n",
    "model = StudentAE()\n",
    "x = torch.randn(1, 3, 256, 256)\n",
    "latent, y = model(x)\n",
    "\n",
    "make_dot(y.mean(), params=dict(model.named_parameters()))\n",
    "# make_dot(y.mean(), params=dict(model.named_parameters()), show_attrs=True, show_saved=True)"
   ]
  },
  {
   "cell_type": "markdown",
   "metadata": {},
   "source": [
    "## Load Models"
   ]
  },
  {
   "cell_type": "code",
   "execution_count": null,
   "metadata": {},
   "outputs": [],
   "source": [
    "# Teacher Model\n",
    "# id = 243807 # Denoising\n",
    "# id = 254462 # Reconstruction\n",
    "id = 274518 # Reconstruction\n",
    "teacher_net = TeacherAE()\n",
    "checkpoint = torch.load(f\"train_res/{id}/checkpoint_best.pth.tar\",\n",
    "    weights_only=True, map_location=torch.device(\"cpu\"))\n",
    "teacher_net.load_state_dict(checkpoint[\"state_dict\"])\n",
    "teacher_net = teacher_net.eval().to(device)\n",
    "\n",
    "print(f\"Parameters: {sum(p.numel() for p in teacher_net.parameters())}\")"
   ]
  },
  {
   "cell_type": "code",
   "execution_count": null,
   "metadata": {},
   "outputs": [],
   "source": [
    "# Student Model\n",
    "# id = 244247 # Denoising\n",
    "# id = 254463 # Reconstruction\n",
    "id = 274520 # Reconstruction\n",
    "student_net = StudentAE()\n",
    "checkpoint = torch.load(f\"train_res/{id}/checkpoint_best.pth.tar\",\n",
    "    weights_only=True, map_location=torch.device(\"cpu\"))\n",
    "student_net.load_state_dict(checkpoint[\"state_dict\"])\n",
    "student_net = student_net.eval().to(device)\n",
    "\n",
    "print(f\"Parameters: {sum(p.numel() for p in student_net.parameters())}\")"
   ]
  },
  {
   "cell_type": "code",
   "execution_count": null,
   "metadata": {},
   "outputs": [],
   "source": [
    "# Student Model with KD\n",
    "# id = 244336 # Denoising\n",
    "# id = 254597 # Reconstruction\n",
    "id = 298339 # Reconstruction\n",
    "student_kd_net = StudentAE()\n",
    "checkpoint = torch.load(f\"train_res/{id}/checkpoint_best.pth.tar\",\n",
    "    weights_only=True, map_location=torch.device(\"cpu\"))\n",
    "student_kd_net.load_state_dict(checkpoint[\"state_dict\"])\n",
    "student_kd_net = student_kd_net.eval().to(device)\n",
    "\n",
    "print(f\"Parameters: {sum(p.numel() for p in student_kd_net.parameters())}\")"
   ]
  },
  {
   "cell_type": "markdown",
   "metadata": {},
   "source": [
    "## Models Comparison"
   ]
  },
  {
   "cell_type": "markdown",
   "metadata": {},
   "source": [
    "### Saint Malo"
   ]
  },
  {
   "cell_type": "code",
   "execution_count": null,
   "metadata": {},
   "outputs": [],
   "source": [
    "test_transforms = transforms.Compose(\n",
    "    [transforms.RandomCrop((256,256)), transforms.ToTensor()]\n",
    ")\n",
    "\n",
    "img = Image.open(\"../data/assets/stmalo_fracape.png\").convert(\"RGB\")\n",
    "x = test_transforms(img).unsqueeze(0).to(device)\n",
    "print(x.shape)"
   ]
  },
  {
   "cell_type": "code",
   "execution_count": null,
   "metadata": {},
   "outputs": [],
   "source": [
    "with torch.no_grad():\n",
    "    _, teacher_out = teacher_net.forward(x)\n",
    "    _, student_out = student_net.forward(x)\n",
    "    _, student_kd_out = student_kd_net.forward(x)\n",
    "\n",
    "criterion = nn.MSELoss()\n",
    "teacher_loss = criterion(teacher_out, x)\n",
    "student_loss = criterion(student_out, x)\n",
    "student_kd_loss = criterion(student_kd_out, x)\n",
    "\n",
    "teacher_diff = torch.mean((teacher_out - x).abs(), axis=1).squeeze().cpu()\n",
    "student_diff = torch.mean((student_out - x).abs(), axis=1).squeeze().cpu()\n",
    "student_kd_diff = torch.mean((student_kd_out - x).abs(), axis=1).squeeze().cpu()\n",
    "\n",
    "teacher_out = transforms.ToPILImage()(teacher_out.squeeze().cpu())\n",
    "student_out = transforms.ToPILImage()(student_out.squeeze().cpu())\n",
    "student_kd_out = transforms.ToPILImage()(student_kd_out.squeeze().cpu())"
   ]
  },
  {
   "cell_type": "code",
   "execution_count": null,
   "metadata": {},
   "outputs": [],
   "source": [
    "fig, axs = plt.subplots(3, 3, figsize=(16, 12))\n",
    "\n",
    "orig = transforms.ToPILImage()(x.squeeze().cpu())\n",
    "outs = [teacher_out, student_out, student_kd_out]\n",
    "diffs = [teacher_diff, student_diff, student_kd_diff]\n",
    "losses = [teacher_loss, student_loss, student_kd_loss]\n",
    "\n",
    "for ax in axs.ravel():\n",
    "    ax.axis(\"off\")\n",
    "\n",
    "for i in range(3):\n",
    "    axs[i, 0].imshow(orig)\n",
    "    axs[i, 0].title.set_text(\"Original\")\n",
    "\n",
    "    axs[i, 1].imshow(outs[i])\n",
    "    axs[i, 1].title.set_text(\"Reconstructed\")\n",
    "\n",
    "    axs[i, 2].imshow(diffs[i], cmap=\"viridis\")\n",
    "    axs[i, 2].title.set_text(f\"Difference ({losses[i]:.3f})\")\n",
    "\n",
    "plt.show()"
   ]
  }
 ],
 "metadata": {
  "kernelspec": {
   "display_name": "prim_env",
   "language": "python",
   "name": "python3"
  },
  "language_info": {
   "codemirror_mode": {
    "name": "ipython",
    "version": 3
   },
   "file_extension": ".py",
   "mimetype": "text/x-python",
   "name": "python",
   "nbconvert_exporter": "python",
   "pygments_lexer": "ipython3",
   "version": "3.12.7"
  }
 },
 "nbformat": 4,
 "nbformat_minor": 4
}
