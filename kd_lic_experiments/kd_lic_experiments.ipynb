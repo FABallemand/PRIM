{
 "cells": [
  {
   "cell_type": "markdown",
   "metadata": {},
   "source": [
    "<!-- Copyright (c) 2021-2024, InterDigital Communications, Inc\n",
    "All rights reserved.\n",
    "\n",
    "Redistribution and use in source and binary forms, with or without \n",
    "modification, are permitted (subject to the limitations in the disclaimer \n",
    "below) provided that the following conditions are met:\n",
    "\n",
    "* Redistributions of source code must retain the above copyright notice, \n",
    "this list of conditions and the following disclaimer.\n",
    "* Redistributions in binary form must reproduce the above copyright notice, \n",
    "this list of conditions and the following disclaimer in the documentation \n",
    "and/or other materials provided with the distribution.\n",
    "* Neither the name of InterDigital Communications, Inc nor the names of its \n",
    "contributors may be used to endorse or promote products derived from this \n",
    "software without specific prior written permission.\n",
    "\n",
    "NO EXPRESS OR IMPLIED LICENSES TO ANY PARTY'S PATENT RIGHTS ARE GRANTED BY \n",
    "THIS LICENSE. THIS SOFTWARE IS PROVIDED BY THE COPYRIGHT HOLDERS AND \n",
    "CONTRIBUTORS \"AS IS\" AND ANY EXPRESS OR IMPLIED WARRANTIES, INCLUDING, BUT \n",
    "NOT LIMITED TO, THE IMPLIED WARRANTIES OF MERCHANTABILITY AND FITNESS FOR A \n",
    "PARTICULAR PURPOSE ARE DISCLAIMED. IN NO EVENT SHALL THE COPYRIGHT HOLDER \n",
    "OR CONTRIBUTORS BE LIABLE FOR ANY DIRECT, INDIRECT, INCIDENTAL, SPECIAL, \n",
    "EXEMPLARY, OR CONSEQUENTIAL DAMAGES (INCLUDING, BUT NOT LIMITED TO, \n",
    "PROCUREMENT OF SUBSTITUTE GOODS OR SERVICES; LOSS OF USE, DATA, OR PROFITS; \n",
    "OR BUSINESS INTERRUPTION) HOWEVER CAUSED AND ON ANY THEORY OF LIABILITY, \n",
    "WHETHER IN CONTRACT, STRICT LIABILITY, OR TORT (INCLUDING NEGLIGENCE OR \n",
    "OTHERWISE) ARISING IN ANY WAY OUT OF THE USE OF THIS SOFTWARE, EVEN IF \n",
    "ADVISED OF THE POSSIBILITY OF SUCH DAMAGE. -->"
   ]
  },
  {
   "cell_type": "markdown",
   "metadata": {},
   "source": [
    "# Knowledge Distillation Applied to LIC"
   ]
  },
  {
   "cell_type": "code",
   "execution_count": 14,
   "metadata": {},
   "outputs": [],
   "source": [
    "import io\n",
    "import math\n",
    "import numpy as np\n",
    "\n",
    "from PIL import Image\n",
    "\n",
    "import torch\n",
    "import torch.nn as nn\n",
    "from torchvision import transforms\n",
    "from torch.utils.data import DataLoader\n",
    "from pytorch_msssim import ms_ssim\n",
    "\n",
    "from compressai.zoo.image import (\n",
    "    model_urls,\n",
    "    load_state_dict_from_url,\n",
    "    load_pretrained,\n",
    "    _load_model,\n",
    "    bmshj2018_hyperprior,\n",
    "    mbt2018_mean,\n",
    "    mbt2018\n",
    ")\n",
    "\n",
    "from fvcore.nn import FlopCountAnalysis\n",
    "from zeus.monitor import ZeusMonitor\n",
    "from zeus.device.cpu import get_current_cpu_index\n",
    "\n",
    "import matplotlib.pyplot as plt\n",
    "from ipywidgets import interact, widgets\n",
    "\n",
    "from models import ScaleHyperprior, MeanScaleHyperprior, JointAutoregressiveHierarchicalPriors"
   ]
  },
  {
   "cell_type": "code",
   "execution_count": 3,
   "metadata": {},
   "outputs": [],
   "source": [
    "def compute_psnr(a, b):\n",
    "    mse = torch.mean((a - b)**2).item()\n",
    "    return -10 * math.log10(mse)\n",
    "\n",
    "\n",
    "def compute_msssim(a, b):\n",
    "    return ms_ssim(a, b, data_range=1.).item()\n",
    "\n",
    "\n",
    "def compute_bpp(out_net):\n",
    "    size = out_net[\"x_hat\"].size()\n",
    "    num_pixels = size[0] * size[2] * size[3]\n",
    "    return sum(torch.log(likelihoods).sum() / (-math.log(2) * num_pixels)\n",
    "               for likelihoods in out_net[\"likelihoods\"].values()).item()"
   ]
  },
  {
   "cell_type": "code",
   "execution_count": null,
   "metadata": {},
   "outputs": [],
   "source": [
    "device = \"cuda\" if torch.cuda.is_available() else \"cpu\"\n",
    "print(device)"
   ]
  },
  {
   "cell_type": "markdown",
   "metadata": {},
   "source": [
    "## Load Models"
   ]
  },
  {
   "cell_type": "code",
   "execution_count": 5,
   "metadata": {},
   "outputs": [],
   "source": [
    "N_teacher = 128\n",
    "M = 192"
   ]
  },
  {
   "cell_type": "code",
   "execution_count": 6,
   "metadata": {},
   "outputs": [],
   "source": [
    "url = model_urls[\"bmshj2018-hyperprior\"][\"mse\"][5]\n",
    "state_dict = load_state_dict_from_url(url, progress=False)\n",
    "state_dict = load_pretrained(state_dict)\n",
    "teacher = ScaleHyperprior.from_state_dict(state_dict).eval().to(device)"
   ]
  },
  {
   "cell_type": "code",
   "execution_count": 7,
   "metadata": {},
   "outputs": [],
   "source": [
    "# Teacher Model\n",
    "id = 258263 # 16\n",
    "student_16 = ScaleHyperprior(16, M)\n",
    "checkpoint = torch.load(f\"train_res/{id}/checkpoint_best.pth.tar\",\n",
    "    weights_only=True, map_location=torch.device(\"cpu\"))\n",
    "student_16.load_state_dict(checkpoint[\"state_dict\"])\n",
    "student_16 = student_16.eval().to(device)"
   ]
  },
  {
   "cell_type": "code",
   "execution_count": 8,
   "metadata": {},
   "outputs": [],
   "source": [
    "# Student Model\n",
    "id = 258258 # 32\n",
    "student_32 = ScaleHyperprior(32, M)\n",
    "checkpoint = torch.load(f\"train_res/{id}/checkpoint_best.pth.tar\",\n",
    "    weights_only=True, map_location=torch.device(\"cpu\"))\n",
    "student_32.load_state_dict(checkpoint[\"state_dict\"])\n",
    "student_32 = student_32.eval().to(device)"
   ]
  },
  {
   "cell_type": "code",
   "execution_count": 9,
   "metadata": {},
   "outputs": [],
   "source": [
    "# Student Model with KD (no latent loss)\n",
    "id = 258259 # 64\n",
    "student_64 = ScaleHyperprior(64, M)\n",
    "checkpoint = torch.load(f\"train_res/{id}/checkpoint_best.pth.tar\",\n",
    "    weights_only=True, map_location=torch.device(\"cpu\"))\n",
    "student_64.load_state_dict(checkpoint[\"state_dict\"])\n",
    "student_64 = student_64.eval().to(device)"
   ]
  },
  {
   "cell_type": "code",
   "execution_count": 10,
   "metadata": {},
   "outputs": [],
   "source": [
    "# Student Model with KD (latent loss)\n",
    "id = 258262 # 96\n",
    "student_96 = ScaleHyperprior(96, M)\n",
    "checkpoint = torch.load(f\"train_res/{id}/checkpoint_best.pth.tar\",\n",
    "    weights_only=True, map_location=torch.device(\"cpu\"))\n",
    "student_96.load_state_dict(checkpoint[\"state_dict\"])\n",
    "student_96 = student_96.eval().to(device)"
   ]
  },
  {
   "cell_type": "code",
   "execution_count": 11,
   "metadata": {},
   "outputs": [],
   "source": [
    "models = {\n",
    "    \"teacher\": {\"model\": teacher, \"metrics\": {\"params\": sum(p.numel() for p in teacher.parameters())}},\n",
    "    \"student_16\": {\"model\": student_16, \"metrics\": {\"params\": sum(p.numel() for p in student_16.parameters())}},\n",
    "    \"student_32\": {\"model\": student_32, \"metrics\": {\"params\": sum(p.numel() for p in student_32.parameters())}},\n",
    "    \"student_64\": {\"model\": student_64, \"metrics\": {\"params\": sum(p.numel() for p in student_64.parameters())}},\n",
    "    \"student_96\": {\"model\": student_96, \"metrics\": {\"params\": sum(p.numel() for p in student_96.parameters())}},\n",
    "}"
   ]
  },
  {
   "cell_type": "markdown",
   "metadata": {},
   "source": [
    "## Models Comparison"
   ]
  },
  {
   "cell_type": "markdown",
   "metadata": {},
   "source": [
    "### Saint Malo"
   ]
  },
  {
   "cell_type": "code",
   "execution_count": null,
   "metadata": {},
   "outputs": [],
   "source": [
    "test_transforms = transforms.Compose(\n",
    "    [transforms.RandomCrop((256,256)), transforms.ToTensor()]\n",
    ")\n",
    "\n",
    "img = Image.open(\"../data/assets/stmalo_fracape.png\").convert(\"RGB\")\n",
    "x = test_transforms(img).unsqueeze(0).to(device)\n",
    "print(x.shape)"
   ]
  },
  {
   "cell_type": "code",
   "execution_count": null,
   "metadata": {},
   "outputs": [],
   "source": [
    "# Flops computation\n",
    "with torch.no_grad():\n",
    "    for model in models.keys():\n",
    "        flops = FlopCountAnalysis(models[model][\"model\"], x)\n",
    "        models[model][\"metrics\"][\"flops\"] = flops.total()"
   ]
  },
  {
   "cell_type": "code",
   "execution_count": null,
   "metadata": {},
   "outputs": [],
   "source": [
    "%%script false --no-raise-error\n",
    "# Energy consumption computation\n",
    "current_cpu_index = get_current_cpu_index()\n",
    "monitor = ZeusMonitor(cpu_indices=[current_cpu_index], gpu_indices=[])\n",
    "with torch.no_grad():\n",
    "    for model in models.keys():\n",
    "        monitor.begin_window(\"step\")\n",
    "        output = models[model][\"model\"].forward(x)\n",
    "        monitor.end_window(\"step\")"
   ]
  },
  {
   "cell_type": "code",
   "execution_count": 13,
   "metadata": {},
   "outputs": [],
   "source": [
    "# Inference\n",
    "criterion = nn.MSELoss()\n",
    "with torch.no_grad():\n",
    "    for model in models.keys():\n",
    "        output = models[model][\"model\"].forward(x)\n",
    "\n",
    "        models[model][\"metrics\"][\"mse\"] = criterion(output[\"x_hat\"], x).item()\n",
    "        models[model][\"metrics\"][\"psnr\"] = compute_psnr(output[\"x_hat\"], x)\n",
    "        models[model][\"metrics\"][\"ms_ssim\"] = compute_msssim(output[\"x_hat\"], x)\n",
    "        models[model][\"metrics\"][\"bpp\"] = compute_bpp(output)\n",
    "\n",
    "        models[model][\"output\"] = output"
   ]
  },
  {
   "cell_type": "code",
   "execution_count": null,
   "metadata": {},
   "outputs": [],
   "source": [
    "fig, axs = plt.subplots(5, 4, figsize=(16, 12))\n",
    "\n",
    "orig = transforms.ToPILImage()(x.squeeze().cpu())\n",
    "\n",
    "for ax in axs.ravel():\n",
    "    ax.axis(\"off\")\n",
    "\n",
    "for i, model in enumerate(models.keys()):\n",
    "    axs[i, 0].imshow(orig)\n",
    "    axs[i, 0].title.set_text(\"Original\")\n",
    "\n",
    "    recons = transforms.ToPILImage()(models[model][\"output\"][\"x_hat\"].squeeze().cpu())\n",
    "    axs[i, 1].imshow(recons)\n",
    "    axs[i, 1].title.set_text(\"Reconstructed\")\n",
    "\n",
    "    diffs = torch.mean((models[model][\"output\"][\"x_hat\"] - x).abs(), axis=1).squeeze().cpu()\n",
    "    axs[i, 2].imshow(diffs, cmap=\"viridis\")\n",
    "    axs[i, 2].title.set_text(f\"Difference\")\n",
    "\n",
    "    axs[i, 3].set_axis_off()\n",
    "    axs[i, 3].table(rowLabels=list(models[model][\"metrics\"].keys()),\n",
    "                    cellText=[[f\"{m:,}\"] if isinstance(m, int) else [f\"{m:.6f}\"] for m in models[model][\"metrics\"].values()],\n",
    "                    loc=\"center\")\n",
    "\n",
    "plt.show()"
   ]
  }
 ],
 "metadata": {
  "kernelspec": {
   "display_name": "prim_env",
   "language": "python",
   "name": "python3"
  },
  "language_info": {
   "codemirror_mode": {
    "name": "ipython",
    "version": 3
   },
   "file_extension": ".py",
   "mimetype": "text/x-python",
   "name": "python",
   "nbconvert_exporter": "python",
   "pygments_lexer": "ipython3",
   "version": "3.12.7"
  }
 },
 "nbformat": 4,
 "nbformat_minor": 4
}
