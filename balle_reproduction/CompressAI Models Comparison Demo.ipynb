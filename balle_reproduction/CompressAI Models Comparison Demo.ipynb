{
 "cells": [
  {
   "cell_type": "markdown",
   "metadata": {},
   "source": [
    "<!-- Copyright (c) 2021-2024, InterDigital Communications, Inc\n",
    "All rights reserved.\n",
    "\n",
    "Redistribution and use in source and binary forms, with or without \n",
    "modification, are permitted (subject to the limitations in the disclaimer \n",
    "below) provided that the following conditions are met:\n",
    "\n",
    "* Redistributions of source code must retain the above copyright notice, \n",
    "this list of conditions and the following disclaimer.\n",
    "* Redistributions in binary form must reproduce the above copyright notice, \n",
    "this list of conditions and the following disclaimer in the documentation \n",
    "and/or other materials provided with the distribution.\n",
    "* Neither the name of InterDigital Communications, Inc nor the names of its \n",
    "contributors may be used to endorse or promote products derived from this \n",
    "software without specific prior written permission.\n",
    "\n",
    "NO EXPRESS OR IMPLIED LICENSES TO ANY PARTY'S PATENT RIGHTS ARE GRANTED BY \n",
    "THIS LICENSE. THIS SOFTWARE IS PROVIDED BY THE COPYRIGHT HOLDERS AND \n",
    "CONTRIBUTORS \"AS IS\" AND ANY EXPRESS OR IMPLIED WARRANTIES, INCLUDING, BUT \n",
    "NOT LIMITED TO, THE IMPLIED WARRANTIES OF MERCHANTABILITY AND FITNESS FOR A \n",
    "PARTICULAR PURPOSE ARE DISCLAIMED. IN NO EVENT SHALL THE COPYRIGHT HOLDER \n",
    "OR CONTRIBUTORS BE LIABLE FOR ANY DIRECT, INDIRECT, INCIDENTAL, SPECIAL, \n",
    "EXEMPLARY, OR CONSEQUENTIAL DAMAGES (INCLUDING, BUT NOT LIMITED TO, \n",
    "PROCUREMENT OF SUBSTITUTE GOODS OR SERVICES; LOSS OF USE, DATA, OR PROFITS; \n",
    "OR BUSINESS INTERRUPTION) HOWEVER CAUSED AND ON ANY THEORY OF LIABILITY, \n",
    "WHETHER IN CONTRACT, STRICT LIABILITY, OR TORT (INCLUDING NEGLIGENCE OR \n",
    "OTHERWISE) ARISING IN ANY WAY OUT OF THE USE OF THIS SOFTWARE, EVEN IF \n",
    "ADVISED OF THE POSSIBILITY OF SUCH DAMAGE. -->"
   ]
  },
  {
   "cell_type": "markdown",
   "metadata": {},
   "source": [
    "# Compressai Models Comparison Demo"
   ]
  },
  {
   "cell_type": "code",
   "execution_count": null,
   "metadata": {},
   "outputs": [],
   "source": [
    "import math\n",
    "import io\n",
    "import torch\n",
    "from torchvision import transforms\n",
    "import numpy as np\n",
    "\n",
    "from PIL import Image\n",
    "\n",
    "import matplotlib.pyplot as plt"
   ]
  },
  {
   "cell_type": "code",
   "execution_count": null,
   "metadata": {},
   "outputs": [],
   "source": [
    "from pytorch_msssim import ms_ssim"
   ]
  },
  {
   "cell_type": "code",
   "execution_count": null,
   "metadata": {},
   "outputs": [],
   "source": [
    "from compressai.zoo import (bmshj2018_factorized, bmshj2018_hyperprior, mbt2018_mean, mbt2018, cheng2020_anchor)"
   ]
  },
  {
   "cell_type": "code",
   "execution_count": null,
   "metadata": {},
   "outputs": [],
   "source": [
    "from ipywidgets import interact, widgets"
   ]
  },
  {
   "cell_type": "markdown",
   "metadata": {},
   "source": [
    "## Global settings"
   ]
  },
  {
   "cell_type": "code",
   "execution_count": null,
   "metadata": {},
   "outputs": [],
   "source": [
    "device = \"cuda\" if torch.cuda.is_available() else \"cpu\"\n",
    "metric = \"mse\"  # only pre-trained model for mse are available for now\n",
    "quality = 3     # lower quality -> lower bit-rate (use lower quality to clearly see visual differences in the notebook)"
   ]
  },
  {
   "cell_type": "markdown",
   "metadata": {},
   "source": [
    "## Load some pretrained models"
   ]
  },
  {
   "cell_type": "code",
   "execution_count": null,
   "metadata": {},
   "outputs": [],
   "source": [
    "id = 260502\n",
    "net = bmshj2018_hyperprior(quality=3, pretrained=False)\n",
    "checkpoint = torch.load(f\"train_res/{id}/checkpoint_best.pth.tar\",\n",
    "                        weights_only=True, map_location=torch.device(\"cpu\"))\n",
    "net.load_state_dict(checkpoint[\"state_dict\"])\n",
    "net.eval().to(device)\n",
    "\n",
    "networks = {\n",
    "    \"bmshj2018-hyperprior (our)\": net,\n",
    "    \"bmshj2018-hyperprior\": bmshj2018_hyperprior(quality=quality, pretrained=True).eval().to(device),\n",
    "    \"bmshj2018-factorized\": bmshj2018_factorized(quality=quality, pretrained=True).eval().to(device),\n",
    "    \"mbt2018-mean\": mbt2018_mean(quality=quality, pretrained=True).eval().to(device),\n",
    "    \"mbt2018\": mbt2018(quality=quality, pretrained=True).eval().to(device),\n",
    "    # \"cheng2020-anchor\": cheng2020_anchor(quality=quality, pretrained=True).eval().to(device),\n",
    "}"
   ]
  },
  {
   "cell_type": "markdown",
   "metadata": {},
   "source": [
    "## Inference"
   ]
  },
  {
   "cell_type": "markdown",
   "metadata": {},
   "source": [
    "### Load input data"
   ]
  },
  {
   "cell_type": "code",
   "execution_count": null,
   "metadata": {},
   "outputs": [],
   "source": [
    "img = Image.open(\"../data/assets/stmalo_fracape.png\").convert(\"RGB\")\n",
    "x = transforms.ToTensor()(img).unsqueeze(0).to(device)"
   ]
  },
  {
   "cell_type": "code",
   "execution_count": null,
   "metadata": {},
   "outputs": [],
   "source": [
    "plt.figure(figsize=(6, 5))\n",
    "plt.axis('off')\n",
    "plt.imshow(img)\n",
    "plt.show()"
   ]
  },
  {
   "cell_type": "markdown",
   "metadata": {},
   "source": [
    "### Run the networks"
   ]
  },
  {
   "cell_type": "code",
   "execution_count": null,
   "metadata": {},
   "outputs": [],
   "source": [
    "outputs = {}\n",
    "with torch.no_grad():\n",
    "    for name, net in networks.items():\n",
    "        rv = net(x)\n",
    "        rv[\"x_hat\"].clamp_(0, 1)\n",
    "        outputs[name] = rv"
   ]
  },
  {
   "cell_type": "markdown",
   "metadata": {},
   "source": [
    "### Visualize the reconstructions"
   ]
  },
  {
   "cell_type": "code",
   "execution_count": null,
   "metadata": {},
   "outputs": [],
   "source": [
    "reconstructions = {name: transforms.ToPILImage()(out[\"x_hat\"].squeeze())\n",
    "                   for name, out in outputs.items()}"
   ]
  },
  {
   "cell_type": "code",
   "execution_count": null,
   "metadata": {},
   "outputs": [],
   "source": [
    "diffs = [torch.mean((out[\"x_hat\"] - x).abs(), axis=1).squeeze()\n",
    "         for out in outputs.values()]"
   ]
  },
  {
   "cell_type": "code",
   "execution_count": null,
   "metadata": {},
   "outputs": [],
   "source": [
    "n_rows = math.ceil((len(reconstructions) + 1) / 3)\n",
    "n_cols = 3\n",
    "fig, axs = plt.subplots(n_rows, n_cols, figsize=(n_cols*5, n_rows*5))\n",
    "for ax in axs.ravel():\n",
    "    ax.axis(\"off\")\n",
    "   \n",
    "axs.ravel()[0].imshow(img.crop((468, 212, 768, 512)))\n",
    "axs.ravel()[0].title.set_text(\"Original\")\n",
    "    \n",
    "for i, (name, rec) in enumerate(reconstructions.items()):\n",
    "    axs.ravel()[i + 1].imshow(rec.crop((468, 212, 768, 512))) # cropped for easy comparison\n",
    "    axs.ravel()[i + 1].title.set_text(name)\n",
    "\n",
    "plt.tight_layout()\n",
    "plt.show()"
   ]
  },
  {
   "cell_type": "markdown",
   "metadata": {},
   "source": [
    "## Metric"
   ]
  },
  {
   "cell_type": "code",
   "execution_count": null,
   "metadata": {},
   "outputs": [],
   "source": [
    "def compute_psnr(a, b):\n",
    "    mse = torch.mean((a - b)**2).item()\n",
    "    return -10 * math.log10(mse)\n",
    "\n",
    "def compute_msssim(a, b):\n",
    "    return ms_ssim(a, b, data_range=1.).item()\n",
    "\n",
    "def compute_bpp(out_net):\n",
    "    size = out_net[\"x_hat\"].size()\n",
    "    num_pixels = size[0] * size[2] * size[3]\n",
    "    return sum(torch.log(likelihoods).sum() / (-math.log(2) * num_pixels)\n",
    "              for likelihoods in out_net[\"likelihoods\"].values()).item()"
   ]
  },
  {
   "cell_type": "code",
   "execution_count": null,
   "metadata": {},
   "outputs": [],
   "source": [
    "metrics = {}\n",
    "for name, out in outputs.items():\n",
    "    metrics[name] = {\n",
    "        \"psnr\": compute_psnr(x, out[\"x_hat\"]),\n",
    "        \"ms-ssim\": compute_msssim(x, out[\"x_hat\"]),\n",
    "        \"bit-rate\": compute_bpp(out),\n",
    "    }"
   ]
  },
  {
   "cell_type": "code",
   "execution_count": null,
   "metadata": {},
   "outputs": [],
   "source": [
    "header = f'{\"Model\":20s} | {\"PSNR [dB]\"} | {\"MS-SSIM\":<9s} | {\"Bpp\":<9s}|'\n",
    "print(\"-\"*len(header))\n",
    "print(header)\n",
    "print(\"-\"*len(header))\n",
    "for name, m in metrics.items():\n",
    "    print(f\"{name:20s}\", end=\"\")\n",
    "    for v in m.values():\n",
    "        print(f\" | {v:9.3f}\", end=\"\")\n",
    "    print(\"|\")\n",
    "print(\"-\"*len(header))"
   ]
  },
  {
   "cell_type": "code",
   "execution_count": null,
   "metadata": {},
   "outputs": [],
   "source": [
    "fig, axs = plt.subplots(1, 2, figsize=(13, 5))\n",
    "# plt.figtext(.5, 0., \"(upper-left is better)\", fontsize=12, ha=\"center\")\n",
    "for name, m in metrics.items():\n",
    "    axs[0].plot(m[\"bit-rate\"], m[\"psnr\"], \"o\", label=name)\n",
    "    axs[0].legend(loc=\"best\")\n",
    "    axs[0].grid(True)\n",
    "    axs[0].set_ylabel(\"PSNR [dB]\")\n",
    "    axs[0].set_xlabel(\"Bit rate [bpp]\")\n",
    "    axs[0].title.set_text(\"PSNR comparison\")\n",
    "\n",
    "    axs[1].plot(m[\"bit-rate\"], -10*np.log10(1-m[\"ms-ssim\"]), \"o\", label=name)\n",
    "    axs[1].legend(loc=\"best\")\n",
    "    axs[1].grid(True)\n",
    "    axs[1].set_ylabel(\"MS-SSIM [dB]\")\n",
    "    axs[1].set_xlabel(\"Bit rate [bpp]\")\n",
    "    axs[1].title.set_text(\"MS-SSIM (log) comparison\")\n",
    "\n",
    "plt.tight_layout()\n",
    "plt.show()"
   ]
  }
 ],
 "metadata": {
  "kernelspec": {
   "display_name": "prim_env",
   "language": "python",
   "name": "python3"
  },
  "language_info": {
   "codemirror_mode": {
    "name": "ipython",
    "version": 3
   },
   "file_extension": ".py",
   "mimetype": "text/x-python",
   "name": "python",
   "nbconvert_exporter": "python",
   "pygments_lexer": "ipython3",
   "version": "3.12.7"
  }
 },
 "nbformat": 4,
 "nbformat_minor": 4
}
