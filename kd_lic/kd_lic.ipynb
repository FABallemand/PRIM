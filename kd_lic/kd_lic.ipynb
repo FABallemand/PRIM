{
 "cells": [
  {
   "cell_type": "markdown",
   "metadata": {},
   "source": [
    "<!-- Copyright (c) 2021-2024, InterDigital Communications, Inc\n",
    "All rights reserved.\n",
    "\n",
    "Redistribution and use in source and binary forms, with or without \n",
    "modification, are permitted (subject to the limitations in the disclaimer \n",
    "below) provided that the following conditions are met:\n",
    "\n",
    "* Redistributions of source code must retain the above copyright notice, \n",
    "this list of conditions and the following disclaimer.\n",
    "* Redistributions in binary form must reproduce the above copyright notice, \n",
    "this list of conditions and the following disclaimer in the documentation \n",
    "and/or other materials provided with the distribution.\n",
    "* Neither the name of InterDigital Communications, Inc nor the names of its \n",
    "contributors may be used to endorse or promote products derived from this \n",
    "software without specific prior written permission.\n",
    "\n",
    "NO EXPRESS OR IMPLIED LICENSES TO ANY PARTY'S PATENT RIGHTS ARE GRANTED BY \n",
    "THIS LICENSE. THIS SOFTWARE IS PROVIDED BY THE COPYRIGHT HOLDERS AND \n",
    "CONTRIBUTORS \"AS IS\" AND ANY EXPRESS OR IMPLIED WARRANTIES, INCLUDING, BUT \n",
    "NOT LIMITED TO, THE IMPLIED WARRANTIES OF MERCHANTABILITY AND FITNESS FOR A \n",
    "PARTICULAR PURPOSE ARE DISCLAIMED. IN NO EVENT SHALL THE COPYRIGHT HOLDER \n",
    "OR CONTRIBUTORS BE LIABLE FOR ANY DIRECT, INDIRECT, INCIDENTAL, SPECIAL, \n",
    "EXEMPLARY, OR CONSEQUENTIAL DAMAGES (INCLUDING, BUT NOT LIMITED TO, \n",
    "PROCUREMENT OF SUBSTITUTE GOODS OR SERVICES; LOSS OF USE, DATA, OR PROFITS; \n",
    "OR BUSINESS INTERRUPTION) HOWEVER CAUSED AND ON ANY THEORY OF LIABILITY, \n",
    "WHETHER IN CONTRACT, STRICT LIABILITY, OR TORT (INCLUDING NEGLIGENCE OR \n",
    "OTHERWISE) ARISING IN ANY WAY OUT OF THE USE OF THIS SOFTWARE, EVEN IF \n",
    "ADVISED OF THE POSSIBILITY OF SUCH DAMAGE. -->"
   ]
  },
  {
   "cell_type": "markdown",
   "metadata": {},
   "source": [
    "# Knowledge Distillation Applied to LIC"
   ]
  },
  {
   "cell_type": "code",
   "execution_count": null,
   "metadata": {},
   "outputs": [],
   "source": [
    "import io\n",
    "import math\n",
    "import numpy as np\n",
    "\n",
    "from PIL import Image\n",
    "\n",
    "import torch\n",
    "import torch.nn as nn\n",
    "from torchvision import transforms\n",
    "from torch.utils.data import DataLoader\n",
    "\n",
    "from compressai.datasets import Vimeo90kDataset\n",
    "from compressai.models.google import ScaleHyperprior\n",
    "\n",
    "import matplotlib.pyplot as plt\n",
    "from ipywidgets import interact, widgets"
   ]
  },
  {
   "cell_type": "code",
   "execution_count": null,
   "metadata": {},
   "outputs": [],
   "source": [
    "device = \"cuda\" if torch.cuda.is_available() else \"cpu\"\n",
    "print(device)"
   ]
  },
  {
   "cell_type": "markdown",
   "metadata": {},
   "source": [
    "## Load Models"
   ]
  },
  {
   "cell_type": "code",
   "execution_count": 3,
   "metadata": {},
   "outputs": [],
   "source": [
    "N_teacher = 128\n",
    "N_student = 64\n",
    "M = 192"
   ]
  },
  {
   "cell_type": "code",
   "execution_count": null,
   "metadata": {},
   "outputs": [],
   "source": [
    "# Teacher Model\n",
    "id = 254451\n",
    "teacher_net = ScaleHyperprior(N_teacher, M)\n",
    "checkpoint = torch.load(f\"train_res/{id}/checkpoint_best.pth.tar\",\n",
    "    weights_only=True, map_location=torch.device(\"cpu\"))\n",
    "teacher_net.load_state_dict(checkpoint[\"state_dict\"])\n",
    "teacher_net = teacher_net.eval().to(device)\n",
    "\n",
    "print(f\"Parameters: {sum(p.numel() for p in teacher_net.parameters())}\")"
   ]
  },
  {
   "cell_type": "code",
   "execution_count": null,
   "metadata": {},
   "outputs": [],
   "source": [
    "# Student Model\n",
    "id = 254452\n",
    "student_net = ScaleHyperprior(N_student, M)\n",
    "checkpoint = torch.load(f\"train_res/{id}/checkpoint_best.pth.tar\",\n",
    "    weights_only=True, map_location=torch.device(\"cpu\"))\n",
    "student_net.load_state_dict(checkpoint[\"state_dict\"])\n",
    "student_net = student_net.eval().to(device)\n",
    "\n",
    "print(f\"Parameters: {sum(p.numel() for p in student_net.parameters())}\")"
   ]
  },
  {
   "cell_type": "code",
   "execution_count": null,
   "metadata": {},
   "outputs": [],
   "source": [
    "# Student Model with KD\n",
    "# id = 256893\n",
    "# id = 256894\n",
    "# id = 257451\n",
    "id = 257452\n",
    "student_kd_net = ScaleHyperprior(N_student, M)\n",
    "checkpoint = torch.load(f\"train_res/{id}/checkpoint_best.pth.tar\",\n",
    "    weights_only=True, map_location=torch.device(\"cpu\"))\n",
    "student_kd_net.load_state_dict(checkpoint[\"state_dict\"])\n",
    "student_kd_net = student_kd_net.eval().to(device)\n",
    "\n",
    "print(f\"Parameters: {sum(p.numel() for p in student_kd_net.parameters())}\")"
   ]
  },
  {
   "cell_type": "markdown",
   "metadata": {},
   "source": [
    "## Models Comparison"
   ]
  },
  {
   "cell_type": "markdown",
   "metadata": {},
   "source": [
    "### Saint Malo"
   ]
  },
  {
   "cell_type": "code",
   "execution_count": null,
   "metadata": {},
   "outputs": [],
   "source": [
    "test_transforms = transforms.Compose(\n",
    "    [transforms.RandomCrop((256,256)), transforms.ToTensor()]\n",
    ")\n",
    "\n",
    "img = Image.open(\"../data/assets/stmalo_fracape.png\").convert(\"RGB\")\n",
    "x = test_transforms(img).unsqueeze(0).to(device)\n",
    "print(x.shape)"
   ]
  },
  {
   "cell_type": "code",
   "execution_count": 11,
   "metadata": {},
   "outputs": [],
   "source": [
    "with torch.no_grad():\n",
    "    teacher_out = teacher_net.forward(x)\n",
    "    student_out = student_net.forward(x)\n",
    "    student_kd_out = student_kd_net.forward(x)\n",
    "\n",
    "criterion = nn.MSELoss()\n",
    "teacher_loss = criterion(teacher_out[\"x_hat\"], x)\n",
    "student_loss = criterion(student_out[\"x_hat\"], x)\n",
    "student_kd_loss = criterion(student_kd_out[\"x_hat\"], x)\n",
    "\n",
    "teacher_diff = torch.mean((teacher_out[\"x_hat\"] - x).abs(), axis=1).squeeze().cpu()\n",
    "student_diff = torch.mean((student_out[\"x_hat\"] - x).abs(), axis=1).squeeze().cpu()\n",
    "student_kd_diff = torch.mean((student_kd_out[\"x_hat\"] - x).abs(), axis=1).squeeze().cpu()\n",
    "\n",
    "teacher_out = transforms.ToPILImage()(teacher_out[\"x_hat\"].squeeze().cpu())\n",
    "student_out = transforms.ToPILImage()(student_out[\"x_hat\"].squeeze().cpu())\n",
    "student_kd_out = transforms.ToPILImage()(student_kd_out[\"x_hat\"].squeeze().cpu())"
   ]
  },
  {
   "cell_type": "code",
   "execution_count": null,
   "metadata": {},
   "outputs": [],
   "source": [
    "fig, axs = plt.subplots(3, 3, figsize=(16, 12))\n",
    "\n",
    "orig = transforms.ToPILImage()(x.squeeze().cpu())\n",
    "outs = [teacher_out, student_out, student_kd_out]\n",
    "diffs = [teacher_diff, student_diff, student_kd_diff]\n",
    "losses = [teacher_loss, student_loss, student_kd_loss]\n",
    "\n",
    "for ax in axs.ravel():\n",
    "    ax.axis(\"off\")\n",
    "\n",
    "for i in range(3):\n",
    "    axs[i, 0].imshow(orig)\n",
    "    axs[i, 0].title.set_text(\"Original\")\n",
    "\n",
    "    axs[i, 1].imshow(outs[i])\n",
    "    axs[i, 1].title.set_text(\"Reconstructed\")\n",
    "\n",
    "    axs[i, 2].imshow(diffs[i], cmap=\"viridis\")\n",
    "    axs[i, 2].title.set_text(f\"Difference ({losses[i]:.6f})\")\n",
    "\n",
    "plt.show()"
   ]
  },
  {
   "cell_type": "markdown",
   "metadata": {},
   "source": [
    "### Vimeo90k"
   ]
  },
  {
   "cell_type": "code",
   "execution_count": null,
   "metadata": {},
   "outputs": [],
   "source": [
    "test_dataset = Vimeo90kDataset(\"/home/ids/fallemand-24/PRIM/data/vimeo/vimeo_triplet\",\n",
    "                               split=\"valid\", transform=test_transforms)\n",
    "\n",
    "test_dataloader = DataLoader(\n",
    "    test_dataset,\n",
    "    batch_size=1,\n",
    "    num_workers=2,\n",
    "    shuffle=True,\n",
    "    pin_memory=(device == \"cuda\"),\n",
    ")"
   ]
  },
  {
   "cell_type": "code",
   "execution_count": null,
   "metadata": {},
   "outputs": [],
   "source": [
    "img = test_dataset[0]"
   ]
  },
  {
   "cell_type": "code",
   "execution_count": 10,
   "metadata": {},
   "outputs": [],
   "source": [
    "criterion = nn.MSELoss()\n",
    "\n",
    "with torch.no_grad():\n",
    "    for d in test_dataloader:\n",
    "        # d = torch.reshape(d[0], ([-1, 3, 256, 256]))\n",
    "        d = d.to(device)\n",
    "        d_noisy = d + torch.randn_like(d) * 0.1\n",
    "        \n",
    "        _, teacher_out = teacher_net.forward(d_noisy)\n",
    "        _, student_out = student_net.forward(d_noisy)\n",
    "        _, student_kd_out = student_kd_net.forward(d_noisy)\n",
    "\n",
    "        teacher_loss = criterion(teacher_out, d)\n",
    "        student_loss = criterion(student_out, d)\n",
    "        student_kd_loss = criterion(student_kd_out, d)\n",
    "\n",
    "        teacher_diff = torch.mean((teacher_out - d).abs(), axis=1).squeeze().cpu()\n",
    "        student_diff = torch.mean((student_out - d).abs(), axis=1).squeeze().cpu()\n",
    "        student_kd_diff = torch.mean((student_kd_out - d).abs(), axis=1).squeeze().cpu()\n",
    "\n",
    "        teacher_out = transforms.ToPILImage()(teacher_out[0].squeeze().cpu())\n",
    "        student_out = transforms.ToPILImage()(student_out[0].squeeze().cpu())\n",
    "        student_kd_out = transforms.ToPILImage()(student_kd_out[0].squeeze().cpu())\n",
    "\n",
    "        break"
   ]
  },
  {
   "cell_type": "code",
   "execution_count": null,
   "metadata": {},
   "outputs": [],
   "source": [
    "fig, axs = plt.subplots(3, 4, figsize=(16, 12))\n",
    "\n",
    "orig = transforms.ToPILImage()(d[0].squeeze().cpu())\n",
    "orig_noisy = transforms.ToPILImage()(d_noisy[0].squeeze().cpu())\n",
    "outs = [teacher_out, student_out, student_kd_out]\n",
    "diffs = [teacher_diff, student_diff, student_kd_diff]\n",
    "losses = [teacher_loss, student_loss, student_kd_loss]\n",
    "\n",
    "for ax in axs.ravel():\n",
    "    ax.axis(\"off\")\n",
    "\n",
    "for i in range(3):\n",
    "    axs[i, 0].imshow(orig)\n",
    "    axs[i, 0].title.set_text(\"Original\")\n",
    "\n",
    "    axs[i, 1].imshow(orig_noisy)\n",
    "    axs[i, 1].title.set_text(\"Input\")\n",
    "\n",
    "    axs[i, 2].imshow(outs[i])\n",
    "    axs[i, 2].title.set_text(\"Reconstructed\")\n",
    "\n",
    "    axs[i, 3].imshow(diffs[i], cmap=\"viridis\")\n",
    "    axs[i, 3].title.set_text(f\"Difference ({losses[i]:.3f})\")"
   ]
  },
  {
   "cell_type": "code",
   "execution_count": 12,
   "metadata": {},
   "outputs": [],
   "source": [
    "class AverageMeter:\n",
    "    \"\"\"Compute running average.\"\"\"\n",
    "\n",
    "    def __init__(self):\n",
    "        self.val = 0\n",
    "        self.avg = 0\n",
    "        self.sum = 0\n",
    "        self.count = 0\n",
    "\n",
    "    def update(self, val, n=1):\n",
    "        self.val = val\n",
    "        self.sum += val * n\n",
    "        self.count += n\n",
    "        self.avg = self.sum / self.count"
   ]
  },
  {
   "cell_type": "code",
   "execution_count": 13,
   "metadata": {},
   "outputs": [],
   "source": [
    "test_dataloader = DataLoader(\n",
    "    test_dataset,\n",
    "    batch_size=8,\n",
    "    num_workers=2,\n",
    "    shuffle=False,\n",
    "    pin_memory=(device == \"cuda\"),\n",
    ")"
   ]
  },
  {
   "cell_type": "code",
   "execution_count": null,
   "metadata": {},
   "outputs": [],
   "source": [
    "criterion = nn.MSELoss()\n",
    "\n",
    "teacher_loss = AverageMeter()\n",
    "student_loss = AverageMeter()\n",
    "student_kd_loss = AverageMeter()\n",
    "\n",
    "with torch.no_grad():\n",
    "    for i, d in enumerate(test_dataloader):\n",
    "        d = d.to(device)\n",
    "        d_noisy = d + torch.randn_like(d) * 0.2\n",
    "        \n",
    "        _, teacher_out = teacher_net.forward(d_noisy)\n",
    "        _, student_out = student_net.forward(d_noisy)\n",
    "        _, student_kd_out = student_kd_net.forward(d_noisy)\n",
    "\n",
    "        t_loss = criterion(teacher_out, d)\n",
    "        s_loss = criterion(student_out, d)\n",
    "        s_kd_loss = criterion(student_kd_out, d)\n",
    "\n",
    "        teacher_loss.update(t_loss)\n",
    "        student_loss.update(s_loss)\n",
    "        student_kd_loss.update(s_kd_loss)\n",
    "\n",
    "        if i == 10:\n",
    "            break\n",
    "\n",
    "print(f\"Teacher loss: {teacher_loss.avg:.3f}\")\n",
    "print(f\"Student oss: {student_loss.avg:.3f}\")\n",
    "print(f\"Student KD loss: {student_kd_loss.avg:.3f}\")"
   ]
  }
 ],
 "metadata": {
  "kernelspec": {
   "display_name": "prim_env",
   "language": "python",
   "name": "python3"
  },
  "language_info": {
   "codemirror_mode": {
    "name": "ipython",
    "version": 3
   },
   "file_extension": ".py",
   "mimetype": "text/x-python",
   "name": "python",
   "nbconvert_exporter": "python",
   "pygments_lexer": "ipython3",
   "version": "3.12.7"
  }
 },
 "nbformat": 4,
 "nbformat_minor": 4
}
