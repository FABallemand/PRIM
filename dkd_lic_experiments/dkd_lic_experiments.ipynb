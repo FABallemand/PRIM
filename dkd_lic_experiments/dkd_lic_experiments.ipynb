{
 "cells": [
  {
   "cell_type": "markdown",
   "metadata": {},
   "source": [
    "<!-- Copyright (c) 2021-2024, InterDigital Communications, Inc\n",
    "All rights reserved.\n",
    "\n",
    "Redistribution and use in source and binary forms, with or without \n",
    "modification, are permitted (subject to the limitations in the disclaimer \n",
    "below) provided that the following conditions are met:\n",
    "\n",
    "* Redistributions of source code must retain the above copyright notice, \n",
    "this list of conditions and the following disclaimer.\n",
    "* Redistributions in binary form must reproduce the above copyright notice, \n",
    "this list of conditions and the following disclaimer in the documentation \n",
    "and/or other materials provided with the distribution.\n",
    "* Neither the name of InterDigital Communications, Inc nor the names of its \n",
    "contributors may be used to endorse or promote products derived from this \n",
    "software without specific prior written permission.\n",
    "\n",
    "NO EXPRESS OR IMPLIED LICENSES TO ANY PARTY'S PATENT RIGHTS ARE GRANTED BY \n",
    "THIS LICENSE. THIS SOFTWARE IS PROVIDED BY THE COPYRIGHT HOLDERS AND \n",
    "CONTRIBUTORS \"AS IS\" AND ANY EXPRESS OR IMPLIED WARRANTIES, INCLUDING, BUT \n",
    "NOT LIMITED TO, THE IMPLIED WARRANTIES OF MERCHANTABILITY AND FITNESS FOR A \n",
    "PARTICULAR PURPOSE ARE DISCLAIMED. IN NO EVENT SHALL THE COPYRIGHT HOLDER \n",
    "OR CONTRIBUTORS BE LIABLE FOR ANY DIRECT, INDIRECT, INCIDENTAL, SPECIAL, \n",
    "EXEMPLARY, OR CONSEQUENTIAL DAMAGES (INCLUDING, BUT NOT LIMITED TO, \n",
    "PROCUREMENT OF SUBSTITUTE GOODS OR SERVICES; LOSS OF USE, DATA, OR PROFITS; \n",
    "OR BUSINESS INTERRUPTION) HOWEVER CAUSED AND ON ANY THEORY OF LIABILITY, \n",
    "WHETHER IN CONTRACT, STRICT LIABILITY, OR TORT (INCLUDING NEGLIGENCE OR \n",
    "OTHERWISE) ARISING IN ANY WAY OUT OF THE USE OF THIS SOFTWARE, EVEN IF \n",
    "ADVISED OF THE POSSIBILITY OF SUCH DAMAGE. -->"
   ]
  },
  {
   "cell_type": "markdown",
   "metadata": {},
   "source": [
    "# Knowledge Distillation Applied to LIC"
   ]
  },
  {
   "cell_type": "markdown",
   "metadata": {},
   "source": [
    "## Create Figure"
   ]
  },
  {
   "cell_type": "code",
   "execution_count": null,
   "metadata": {},
   "outputs": [],
   "source": [
    "import os\n",
    "import json\n",
    "import numpy as np\n",
    "import matplotlib.pyplot as plt"
   ]
  },
  {
   "cell_type": "code",
   "execution_count": null,
   "metadata": {},
   "outputs": [],
   "source": [
    "id = \"20250529_180652\"\n",
    "with open(f\"../kd_lic_experiments/test_res/{id}/avg_metrics_kodak.json\") as f:\n",
    "    exp_1 = json.load(f)"
   ]
  },
  {
   "cell_type": "code",
   "execution_count": null,
   "metadata": {},
   "outputs": [],
   "source": [
    "id = \"20250526_203611\"\n",
    "with open(f\"test_res/{id}/avg_metrics_kodak.json\") as f:\n",
    "    exp_2 = json.load(f)"
   ]
  },
  {
   "cell_type": "code",
   "execution_count": null,
   "metadata": {},
   "outputs": [],
   "source": [
    "id = \"20250526_205254\"\n",
    "with open(f\"../hybrid_kd_lic_experiments/test_res/{id}/avg_metrics_kodak.json\") as f:\n",
    "    exp_3 = json.load(f)"
   ]
  },
  {
   "cell_type": "code",
   "execution_count": null,
   "metadata": {},
   "outputs": [],
   "source": [
    "pretrained = exp_1[\"pretrained\"]\n",
    "exp_1 = exp_1[\"ours\"]\n",
    "exp_2 = exp_2[\"ours\"]\n",
    "exp_3 = exp_3[\"ours\"]"
   ]
  },
  {
   "cell_type": "code",
   "execution_count": null,
   "metadata": {},
   "outputs": [],
   "source": [
    "# Retrieve average metrics as lists\n",
    "pretrained_brs = [m[\"bit-rate\"] for _, m in pretrained.items()]\n",
    "pretrained_psnrs = [m[\"psnr\"] for _, m in pretrained.items()]\n",
    "pretrained_msssim = [-10*np.log10(1-m[\"ms-ssim\"]) for _, m in pretrained.items()]\n",
    "brs_1 = [m[\"bit-rate\"] for _, m in exp_1.items()]\n",
    "psnrs_1 = [m[\"psnr\"] for _, m in exp_1.items()]\n",
    "msssim_1 = [-10*np.log10(1-m[\"ms-ssim\"]) for _, m in exp_1.items()]\n",
    "brs_2 = [m[\"bit-rate\"] for _, m in exp_2.items()]\n",
    "psnrs_2 = [m[\"psnr\"] for _, m in exp_2.items()]\n",
    "msssim_2 = [-10*np.log10(1-m[\"ms-ssim\"]) for _, m in exp_2.items()]\n",
    "brs_3 = [m[\"bit-rate\"] for _, m in exp_3.items()]\n",
    "psnrs_3 = [m[\"psnr\"] for _, m in exp_3.items()]\n",
    "msssim_3 = [-10*np.log10(1-m[\"ms-ssim\"]) for _, m in exp_3.items()]"
   ]
  },
  {
   "cell_type": "code",
   "execution_count": null,
   "metadata": {},
   "outputs": [],
   "source": [
    "plt.rcParams[\"axes.prop_cycle\"] = plt.rcParams[\"axes.prop_cycle\"][1:]\n",
    "\n",
    "# Plot average rate-distortion curves\n",
    "fig, axs = plt.subplots(1, 2, figsize=(13, 5))\n",
    "\n",
    "axs[0].plot(pretrained_brs[3:-3], pretrained_psnrs[3:-3], \"blue\", linestyle=\"--\",\n",
    "            linewidth=1, label=\"pre-trained\")\n",
    "axs[0].plot(brs_1[-2:], psnrs_1[-2:], \"red\", linestyle=\"--\", linewidth=1,\n",
    "            label=f\"ours\")\n",
    "axs[1].plot(pretrained_brs[3:-3], pretrained_msssim[3:-3], \"blue\", linestyle=\"--\",\n",
    "            linewidth=1, label=\"pre-trained\")\n",
    "axs[1].plot(brs_1[-2:], msssim_1[-2:], \"red\", linestyle=\"--\", linewidth=1, label=\"ours\")\n",
    "\n",
    "for name, m in pretrained.items():\n",
    "    # if name in [\"1\", \"2\", \"3\", \"4\", \"5\"]:\n",
    "    if name in [\"4\", \"5\"]:\n",
    "        axs[0].plot(m[\"bit-rate\"], m[\"psnr\"], \"o\", color=\"blue\")\n",
    "        axs[0].grid(True)\n",
    "        axs[0].set_ylabel(\"PSNR [dB]\")\n",
    "        axs[0].set_xlabel(\"Bit rate [bpp]\")\n",
    "        axs[0].title.set_text(\"PSNR comparison\")\n",
    "\n",
    "        axs[1].plot(m[\"bit-rate\"], -10*np.log10(1-m[\"ms-ssim\"]), \"o\", color=\"blue\")\n",
    "        axs[1].grid(True)\n",
    "        axs[1].set_ylabel(\"MS-SSIM [dB]\")\n",
    "        axs[1].set_xlabel(\"Bit rate [bpp]\")\n",
    "        axs[1].title.set_text(\"MS-SSIM (log) comparison\")\n",
    "\n",
    "for name, m in exp_1.items():\n",
    "    if name in [\"teacher\", \"student_5\", \"student_4\"]:\n",
    "        axs[0].plot(m[\"bit-rate\"], m[\"psnr\"],\n",
    "                    \"s\" if name == \"teacher\" else \"o\", label=name)\n",
    "        axs[0].grid(True)\n",
    "        axs[0].set_ylabel(\"PSNR [dB]\")\n",
    "        axs[0].set_xlabel(\"Bit rate [bpp]\")\n",
    "        axs[0].title.set_text(\"PSNR comparison\")\n",
    "\n",
    "        axs[1].plot(m[\"bit-rate\"], -10*np.log10(1-m[\"ms-ssim\"]),\n",
    "                    \"s\" if name == \"teacher\" else \"o\", label=name)\n",
    "        axs[1].grid(True)\n",
    "        axs[1].set_ylabel(\"MS-SSIM [dB]\")\n",
    "        axs[1].set_xlabel(\"Bit rate [bpp]\")\n",
    "        axs[1].title.set_text(\"MS-SSIM (log) comparison\")\n",
    "\n",
    "for name, m in exp_2.items():\n",
    "    if name != \"teacher\":\n",
    "        axs[0].plot(m[\"bit-rate\"], m[\"psnr\"],\n",
    "                    \"s\" if name == \"teacher\" else \"o\", label=\"student_hyper\")\n",
    "        axs[0].grid(True)\n",
    "        axs[0].set_ylabel(\"PSNR [dB]\")\n",
    "        axs[0].set_xlabel(\"Bit rate [bpp]\")\n",
    "        axs[0].title.set_text(\"PSNR comparison\")\n",
    "\n",
    "        axs[1].plot(m[\"bit-rate\"], -10*np.log10(1-m[\"ms-ssim\"]),\n",
    "                    \"s\" if name == \"teacher\" else \"o\", label=\"student_hyper\")\n",
    "        axs[1].grid(True)\n",
    "        axs[1].set_ylabel(\"MS-SSIM [dB]\")\n",
    "        axs[1].set_xlabel(\"Bit rate [bpp]\")\n",
    "        axs[1].title.set_text(\"MS-SSIM (log) comparison\")\n",
    "\n",
    "for name, m in exp_3.items():\n",
    "    if name != \"teacher\":\n",
    "        axs[0].plot(m[\"bit-rate\"], m[\"psnr\"],\n",
    "                    \"s\" if name == \"teacher\" else \"o\", label=\"student_hybrid\")\n",
    "        axs[0].grid(True)\n",
    "        axs[0].set_ylabel(\"PSNR [dB]\")\n",
    "        axs[0].set_xlabel(\"Bit rate [bpp]\")\n",
    "        axs[0].title.set_text(\"PSNR comparison\")\n",
    "\n",
    "        axs[1].plot(m[\"bit-rate\"], -10*np.log10(1-m[\"ms-ssim\"]),\n",
    "                    \"s\" if name == \"teacher\" else \"o\", label=\"student_hybrid\")\n",
    "        axs[1].grid(True)\n",
    "        axs[1].set_ylabel(\"MS-SSIM [dB]\")\n",
    "        axs[1].set_xlabel(\"Bit rate [bpp]\")\n",
    "        axs[1].title.set_text(\"MS-SSIM (log) comparison\")\n",
    "\n",
    "axs[0].legend(loc=\"best\")\n",
    "axs[1].legend(loc=\"best\")\n",
    "\n",
    "fig.tight_layout()\n",
    "\n",
    "plt.savefig(f\"avg_rd_curve_kodak.png\")"
   ]
  }
 ],
 "metadata": {
  "kernelspec": {
   "display_name": "prim_env",
   "language": "python",
   "name": "python3"
  },
  "language_info": {
   "codemirror_mode": {
    "name": "ipython",
    "version": 3
   },
   "file_extension": ".py",
   "mimetype": "text/x-python",
   "name": "python",
   "nbconvert_exporter": "python",
   "pygments_lexer": "ipython3",
   "version": "3.12.7"
  }
 },
 "nbformat": 4,
 "nbformat_minor": 4
}
